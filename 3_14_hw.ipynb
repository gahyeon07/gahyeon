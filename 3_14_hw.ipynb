{
  "nbformat": 4,
  "nbformat_minor": 0,
  "metadata": {
    "colab": {
      "provenance": [],
      "authorship_tag": "ABX9TyOE9tgvmRnl+PEpKF1Ya3Vm",
      "include_colab_link": true
    },
    "kernelspec": {
      "name": "python3",
      "display_name": "Python 3"
    },
    "language_info": {
      "name": "python"
    }
  },
  "cells": [
    {
      "cell_type": "markdown",
      "metadata": {
        "id": "view-in-github",
        "colab_type": "text"
      },
      "source": [
        "<a href=\"https://colab.research.google.com/github/gahyeon07/gahyeon/blob/main/3_14_hw.ipynb\" target=\"_parent\"><img src=\"https://colab.research.google.com/assets/colab-badge.svg\" alt=\"Open In Colab\"/></a>"
      ]
    },
    {
      "cell_type": "code",
      "execution_count": 1,
      "metadata": {
        "colab": {
          "base_uri": "https://localhost:8080/"
        },
        "id": "3tcMuPTUIhuL",
        "outputId": "9107cd42-22e8-4d10-9f91-6b1f840517af"
      },
      "outputs": [
        {
          "output_type": "stream",
          "name": "stdout",
          "text": [
            "<?xml version=\"1.0\" encoding=\"UTF-8\" standalone=\"yes\"?><response><comMsgHeader/><msgHeader><queryTime>2024-03-14 22:08:25.475</queryTime><resultCode>0</resultCode><resultMessage>정상적으로 처리되었습니다.</resultMessage></msgHeader><msgBody><busLocationList><endBus>0</endBus><lowPlate>0</lowPlate><plateNo>경기74아1383</plateNo><plateType>3</plateType><remainSeatCnt>28</remainSeatCnt><routeId>221000003</routeId><stationId>222001282</stationId><stationSeq>62</stationSeq></busLocationList><busLocationList><endBus>0</endBus><lowPlate>0</lowPlate><plateNo>경기74아1388</plateNo><plateType>3</plateType><remainSeatCnt>45</remainSeatCnt><routeId>221000003</routeId><stationId>222000170</stationId><stationSeq>11</stationSeq></busLocationList><busLocationList><endBus>0</endBus><lowPlate>0</lowPlate><plateNo>경기74아1382</plateNo><plateType>3</plateType><remainSeatCnt>45</remainSeatCnt><routeId>221000003</routeId><stationId>277100104</stationId><stationSeq>37</stationSeq></busLocationList><busLocationList><endBus>0</endBus><lowPlate>0</lowPlate><plateNo>경기74아1386</plateNo><plateType>3</plateType><remainSeatCnt>20</remainSeatCnt><routeId>221000003</routeId><stationId>123000611</stationId><stationSeq>43</stationSeq></busLocationList></msgBody></response>\n"
          ]
        }
      ],
      "source": [
        "import requests\n",
        "url='http://openapi.gbis.go.kr/ws/rest/buslocationservice?serviceKey=1234567890&routeId=221000003'\n",
        "r=requests.get(url)\n",
        "print(r.text)"
      ]
    },
    {
      "cell_type": "code",
      "source": [
        "from bs4 import BeautifulSoup\n",
        "\n",
        "soup=BeautifulSoup(r.text, features=\"xml\")"
      ],
      "metadata": {
        "id": "7pHUmLiERbpa"
      },
      "execution_count": 2,
      "outputs": []
    },
    {
      "cell_type": "code",
      "source": [
        "soup.find_all('stationld')"
      ],
      "metadata": {
        "id": "N2YtfX_VRcYg",
        "colab": {
          "base_uri": "https://localhost:8080/"
        },
        "outputId": "9b7a6949-ffa0-47ed-c0a7-b9e251a2ca84"
      },
      "execution_count": 4,
      "outputs": [
        {
          "output_type": "execute_result",
          "data": {
            "text/plain": [
              "[]"
            ]
          },
          "metadata": {},
          "execution_count": 4
        }
      ]
    },
    {
      "cell_type": "code",
      "source": [
        "print('학번=', 2370001, '이름=', '강가현')"
      ],
      "metadata": {
        "id": "jDwQfDU0Rcgw",
        "colab": {
          "base_uri": "https://localhost:8080/"
        },
        "outputId": "9cd9f0f5-42e6-4c40-ddd6-5d758063a82e"
      },
      "execution_count": 5,
      "outputs": [
        {
          "output_type": "stream",
          "name": "stdout",
          "text": [
            "학번= 2370001 이름= 강가현\n"
          ]
        }
      ]
    }
  ]
}