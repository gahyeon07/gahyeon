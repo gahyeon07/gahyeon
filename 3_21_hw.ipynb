{
  "nbformat": 4,
  "nbformat_minor": 0,
  "metadata": {
    "colab": {
      "provenance": [],
      "authorship_tag": "ABX9TyO4SzxEk7LF+SbRgRtLWihS",
      "include_colab_link": true
    },
    "kernelspec": {
      "name": "python3",
      "display_name": "Python 3"
    },
    "language_info": {
      "name": "python"
    }
  },
  "cells": [
    {
      "cell_type": "markdown",
      "metadata": {
        "id": "view-in-github",
        "colab_type": "text"
      },
      "source": [
        "<a href=\"https://colab.research.google.com/github/gahyeon07/gahyeon/blob/main/3_21_hw.ipynb\" target=\"_parent\"><img src=\"https://colab.research.google.com/assets/colab-badge.svg\" alt=\"Open In Colab\"/></a>"
      ]
    },
    {
      "cell_type": "code",
      "execution_count": 1,
      "metadata": {
        "colab": {
          "base_uri": "https://localhost:8080/"
        },
        "id": "xrN8iL1_w9S4",
        "outputId": "150b6520-d369-4f11-bcb0-ed2fcfceb4ce"
      },
      "outputs": [
        {
          "output_type": "stream",
          "name": "stdout",
          "text": [
            "{'rentBikeStatus': {'list_total_count': 5, 'RESULT': {'CODE': 'INFO-000', 'MESSAGE': '정상 처리되었습니다.'}, 'row': [{'rackTotCnt': '15', 'stationName': '102. 망원역 1번출구 앞', 'parkingBikeTotCnt': '30', 'shared': '200', 'stationLatitude': '37.55564880', 'stationLongitude': '126.91062927', 'stationId': 'ST-4'}, {'rackTotCnt': '14', 'stationName': '103. 망원역 2번출구 앞', 'parkingBikeTotCnt': '32', 'shared': '229', 'stationLatitude': '37.55495071', 'stationLongitude': '126.91083527', 'stationId': 'ST-5'}, {'rackTotCnt': '13', 'stationName': '104. 합정역 1번출구 앞', 'parkingBikeTotCnt': '15', 'shared': '115', 'stationLatitude': '37.55073929', 'stationLongitude': '126.91508484', 'stationId': 'ST-6'}, {'rackTotCnt': '5', 'stationName': '105. 합정역 5번출구 앞', 'parkingBikeTotCnt': '16', 'shared': '320', 'stationLatitude': '37.55000687', 'stationLongitude': '126.91482544', 'stationId': 'ST-7'}, {'rackTotCnt': '12', 'stationName': '106. 합정역 7번출구 앞', 'parkingBikeTotCnt': '3', 'shared': '25', 'stationLatitude': '37.54864502', 'stationLongitude': '126.91282654', 'stationId': 'ST-8'}]}}\n"
          ]
        }
      ],
      "source": [
        "import requests\n",
        "r=requests.get('http://openapi.seoul.go.kr:8088/sample/json/bikeList/1/5/ ')\n",
        "print(r.json())\n",
        "a=r.json()"
      ]
    },
    {
      "cell_type": "code",
      "source": [
        "for x in a['rentBikeStatus']['row']:\n",
        "  print('대여건수',':',x['stationName'],x['shared'])"
      ],
      "metadata": {
        "colab": {
          "base_uri": "https://localhost:8080/"
        },
        "id": "H-L4kt0WxA9r",
        "outputId": "31820be3-b642-4e1a-81c1-13d264753a1e"
      },
      "execution_count": 2,
      "outputs": [
        {
          "output_type": "stream",
          "name": "stdout",
          "text": [
            "대여건수 : 102. 망원역 1번출구 앞 200\n",
            "대여건수 : 103. 망원역 2번출구 앞 229\n",
            "대여건수 : 104. 합정역 1번출구 앞 115\n",
            "대여건수 : 105. 합정역 5번출구 앞 320\n",
            "대여건수 : 106. 합정역 7번출구 앞 25\n"
          ]
        }
      ]
    },
    {
      "cell_type": "code",
      "source": [
        "print('학번=', 2370001, '이름=', '강가현')"
      ],
      "metadata": {
        "colab": {
          "base_uri": "https://localhost:8080/"
        },
        "id": "WVk6U-vMxVUL",
        "outputId": "d5d0a527-04ae-4f53-9f6a-056027486afb"
      },
      "execution_count": 3,
      "outputs": [
        {
          "output_type": "stream",
          "name": "stdout",
          "text": [
            "학번= 2370001 이름= 강가현\n"
          ]
        }
      ]
    }
  ]
}