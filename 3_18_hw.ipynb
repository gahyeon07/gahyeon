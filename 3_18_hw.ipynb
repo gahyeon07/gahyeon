{
  "nbformat": 4,
  "nbformat_minor": 0,
  "metadata": {
    "colab": {
      "provenance": [],
      "authorship_tag": "ABX9TyNq5QJeOPAcrIJ6r498nSNa",
      "include_colab_link": true
    },
    "kernelspec": {
      "name": "python3",
      "display_name": "Python 3"
    },
    "language_info": {
      "name": "python"
    }
  },
  "cells": [
    {
      "cell_type": "markdown",
      "metadata": {
        "id": "view-in-github",
        "colab_type": "text"
      },
      "source": [
        "<a href=\"https://colab.research.google.com/github/gahyeon07/gahyeon/blob/main/3_18_hw.ipynb\" target=\"_parent\"><img src=\"https://colab.research.google.com/assets/colab-badge.svg\" alt=\"Open In Colab\"/></a>"
      ]
    },
    {
      "cell_type": "code",
      "source": [
        "import requests\n",
        "\n",
        "url = 'http://apis.data.go.kr/1480523/MetalMeasuringResultService/MetalService'\n",
        "params ={'serviceKey' : 'Br20dK51JtJPAOn8fNX/veoNxoo8waK3Ni8uA9IPev3rbmxTTlPgBjWYhhpnT76HXQUOH3SWqWJ2Crc4UB/Jlw==', 'pageNo' : '1', 'numOfRows' : '10', 'resultType' : 'XML', 'date' : '20171208', 'stationcode' : '1', 'itemcode' : '90303', 'timecode' : 'RH02' }\n",
        "\n",
        "response = requests.get(url, params=params)\n",
        "print(response.content.decode('utf'))"
      ],
      "metadata": {
        "colab": {
          "base_uri": "https://localhost:8080/"
        },
        "id": "ShhxE67KhGno",
        "outputId": "e274bf0a-7b9f-403a-f3e2-260a882dfce4"
      },
      "execution_count": 18,
      "outputs": [
        {
          "output_type": "stream",
          "name": "stdout",
          "text": [
            "<?xml version=\"1.0\" encoding=\"UTF-8\"?>\n",
            "<response>\n",
            "  <header>\n",
            "    <resultCode>00</resultCode>\n",
            "    <resultMsg>NORMAL SERVICE</resultMsg>\n",
            "  </header>\n",
            "  <body>\n",
            "    <items>\n",
            "  <item>\n",
            "    <sdate>20171208000000</sdate>\n",
            "    <stationcode>1</stationcode>\n",
            "    <itemcode>90303</itemcode>\n",
            "    <timecode>RH02</timecode>\n",
            "    <value>24.125</value>\n",
            "  </item>\n",
            "  <item>\n",
            "    <sdate>20171208020000</sdate>\n",
            "    <stationcode>1</stationcode>\n",
            "    <itemcode>90303</itemcode>\n",
            "    <timecode>RH02</timecode>\n",
            "    <value>26.973</value>\n",
            "  </item>\n",
            "  <item>\n",
            "    <sdate>20171208040000</sdate>\n",
            "    <stationcode>1</stationcode>\n",
            "    <itemcode>90303</itemcode>\n",
            "    <timecode>RH02</timecode>\n",
            "    <value>25.986</value>\n",
            "  </item>\n",
            "  <item>\n",
            "    <sdate>20171208060000</sdate>\n",
            "    <stationcode>1</stationcode>\n",
            "    <itemcode>90303</itemcode>\n",
            "    <timecode>RH02</timecode>\n",
            "    <value>23.7435</value>\n",
            "  </item>\n",
            "  <item>\n",
            "    <sdate>20171208080000</sdate>\n",
            "    <stationcode>1</stationcode>\n",
            "    <itemcode>90303</itemcode>\n",
            "    <timecode>RH02</timecode>\n",
            "    <value>22.9215</value>\n",
            "  </item>\n",
            "  <item>\n",
            "    <sdate>20171208100000</sdate>\n",
            "    <stationcode>1</stationcode>\n",
            "    <itemcode>90303</itemcode>\n",
            "    <timecode>RH02</timecode>\n",
            "    <value>21.729</value>\n",
            "  </item>\n",
            "  <item>\n",
            "    <sdate>20171208120000</sdate>\n",
            "    <stationcode>1</stationcode>\n",
            "    <itemcode>90303</itemcode>\n",
            "    <timecode>RH02</timecode>\n",
            "    <value>17.606</value>\n",
            "  </item>\n",
            "  <item>\n",
            "    <sdate>20171208140000</sdate>\n",
            "    <stationcode>1</stationcode>\n",
            "    <itemcode>90303</itemcode>\n",
            "    <timecode>RH02</timecode>\n",
            "    <value>12.102</value>\n",
            "  </item>\n",
            "  <item>\n",
            "    <sdate>20171208160000</sdate>\n",
            "    <stationcode>1</stationcode>\n",
            "    <itemcode>90303</itemcode>\n",
            "    <timecode>RH02</timecode>\n",
            "    <value>10.046</value>\n",
            "  </item>\n",
            "  <item>\n",
            "    <sdate>20171208180000</sdate>\n",
            "    <stationcode>1</stationcode>\n",
            "    <itemcode>90303</itemcode>\n",
            "    <timecode>RH02</timecode>\n",
            "    <value>8.5985</value>\n",
            "  </item>\n",
            "</items>\n",
            "    <numOfRows>10</numOfRows>\n",
            "    <pageNo>1</pageNo>\n",
            "    <totalCount>12</totalCount>\n",
            "  </body>\n",
            "</response>\n",
            "\n"
          ]
        }
      ]
    },
    {
      "cell_type": "code",
      "source": [
        "from bs4 import BeautifulSoup\n",
        "\n",
        "soup = BeautifulSoup(response.text, features=\"xml\")"
      ],
      "metadata": {
        "id": "zeQKESz9H9ri"
      },
      "execution_count": 19,
      "outputs": []
    },
    {
      "cell_type": "code",
      "source": [
        "soup.find_all('value')"
      ],
      "metadata": {
        "colab": {
          "base_uri": "https://localhost:8080/"
        },
        "id": "28j_aBwZkQG9",
        "outputId": "63347feb-8459-418a-a4f4-17ec38cc7ec1"
      },
      "execution_count": 20,
      "outputs": [
        {
          "output_type": "execute_result",
          "data": {
            "text/plain": [
              "[<value>24.125</value>,\n",
              " <value>26.973</value>,\n",
              " <value>25.986</value>,\n",
              " <value>23.7435</value>,\n",
              " <value>22.9215</value>,\n",
              " <value>21.729</value>,\n",
              " <value>17.606</value>,\n",
              " <value>12.102</value>,\n",
              " <value>10.046</value>,\n",
              " <value>8.5985</value>]"
            ]
          },
          "metadata": {},
          "execution_count": 20
        }
      ]
    },
    {
      "cell_type": "code",
      "source": [
        "print('학번=', 2370001, '이름=', '강가현')"
      ],
      "metadata": {
        "colab": {
          "base_uri": "https://localhost:8080/"
        },
        "id": "I3dbBHPWkTG0",
        "outputId": "199711a7-250d-4a02-bf5d-0e86bb67437e"
      },
      "execution_count": 21,
      "outputs": [
        {
          "output_type": "stream",
          "name": "stdout",
          "text": [
            "학번= 2370001 이름= 강가현\n"
          ]
        }
      ]
    }
  ]
}