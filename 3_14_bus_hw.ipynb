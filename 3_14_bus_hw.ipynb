{
  "nbformat": 4,
  "nbformat_minor": 0,
  "metadata": {
    "colab": {
      "provenance": [],
      "authorship_tag": "ABX9TyMIig/gh8RmWtETGyziPx5C",
      "include_colab_link": true
    },
    "kernelspec": {
      "name": "python3",
      "display_name": "Python 3"
    },
    "language_info": {
      "name": "python"
    }
  },
  "cells": [
    {
      "cell_type": "markdown",
      "metadata": {
        "id": "view-in-github",
        "colab_type": "text"
      },
      "source": [
        "<a href=\"https://colab.research.google.com/github/gahyeon07/gahyeon/blob/main/3_14_bus_hw.ipynb\" target=\"_parent\"><img src=\"https://colab.research.google.com/assets/colab-badge.svg\" alt=\"Open In Colab\"/></a>"
      ]
    },
    {
      "cell_type": "code",
      "execution_count": 1,
      "metadata": {
        "id": "BGvYBL_2ny33",
        "colab": {
          "base_uri": "https://localhost:8080/"
        },
        "outputId": "bb69308a-e874-4768-e07c-5eaa071a5d45"
      },
      "outputs": [
        {
          "output_type": "stream",
          "name": "stdout",
          "text": [
            "<?xml version=\"1.0\" encoding=\"UTF-8\" standalone=\"yes\"?><response><comMsgHeader/><msgHeader><queryTime>2024-03-15 10:11:57.324</queryTime><resultCode>0</resultCode><resultMessage>정상적으로 처리되었습니다.</resultMessage></msgHeader><msgBody><busLocationList><endBus>0</endBus><lowPlate>0</lowPlate><plateNo>경기76아3345</plateNo><plateType>3</plateType><remainSeatCnt>41</remainSeatCnt><routeId>233000131</routeId><stationId>121000220</stationId><stationSeq>40</stationSeq></busLocationList><busLocationList><endBus>0</endBus><lowPlate>0</lowPlate><plateNo>경기76아3333</plateNo><plateType>3</plateType><remainSeatCnt>15</remainSeatCnt><routeId>233000131</routeId><stationId>121000086</stationId><stationSeq>31</stationSeq></busLocationList><busLocationList><endBus>0</endBus><lowPlate>0</lowPlate><plateNo>경기76아3920</plateNo><plateType>3</plateType><remainSeatCnt>40</remainSeatCnt><routeId>233000131</routeId><stationId>277103678</stationId><stationSeq>44</stationSeq></busLocationList><busLocationList><endBus>0</endBus><lowPlate>0</lowPlate><plateNo>경기77바1082</plateNo><plateType>3</plateType><remainSeatCnt>43</remainSeatCnt><routeId>233000131</routeId><stationId>233000137</stationId><stationSeq>58</stationSeq></busLocationList><busLocationList><endBus>0</endBus><lowPlate>0</lowPlate><plateNo>경기76아3331</plateNo><plateType>3</plateType><remainSeatCnt>17</remainSeatCnt><routeId>233000131</routeId><stationId>277103386</stationId><stationSeq>24</stationSeq></busLocationList><busLocationList><endBus>0</endBus><lowPlate>0</lowPlate><plateNo>경기76아3365</plateNo><plateType>3</plateType><remainSeatCnt>42</remainSeatCnt><routeId>233000131</routeId><stationId>233001817</stationId><stationSeq>52</stationSeq></busLocationList><busLocationList><endBus>0</endBus><lowPlate>0</lowPlate><plateNo>경기76아3334</plateNo><plateType>3</plateType><remainSeatCnt>34</remainSeatCnt><routeId>233000131</routeId><stationId>277102660</stationId><stationSeq>20</stationSeq></busLocationList><busLocationList><endBus>0</endBus><lowPlate>0</lowPlate><plateNo>경기76아3976</plateNo><plateType>4</plateType><remainSeatCnt>64</remainSeatCnt><routeId>233000131</routeId><stationId>233001637</stationId><stationSeq>59</stationSeq></busLocationList><busLocationList><endBus>0</endBus><lowPlate>0</lowPlate><plateNo>경기76아3927</plateNo><plateType>4</plateType><remainSeatCnt>63</remainSeatCnt><routeId>233000131</routeId><stationId>233000121</stationId><stationSeq>14</stationSeq></busLocationList></msgBody></response>\n"
          ]
        }
      ],
      "source": [
        "import requests\n",
        "url='http://openapi.gbis.go.kr/ws/rest/buslocationservice?serviceKey=1234567890&routeId=233000131'\n",
        "#url='http://openapi.gbis.go.kr/ws/rest/buslocationservice?serviceKey=1234567890&routeId=233000131'\n",
        "r = requests.get(url)\n",
        "print(r.text)\n"
      ]
    },
    {
      "cell_type": "code",
      "source": [
        "from bs4 import BeautifulSoup\n",
        "\n",
        "soup = BeautifulSoup(r.text, features=\"xml\")"
      ],
      "metadata": {
        "id": "MvBowgPrn6uE"
      },
      "execution_count": 2,
      "outputs": []
    },
    {
      "cell_type": "code",
      "source": [
        "soup.find_all('stationId')"
      ],
      "metadata": {
        "id": "Axp4Ue-_n6z8",
        "colab": {
          "base_uri": "https://localhost:8080/"
        },
        "outputId": "06706e41-2707-4864-a614-8ef1a2c1cd0e"
      },
      "execution_count": 3,
      "outputs": [
        {
          "output_type": "execute_result",
          "data": {
            "text/plain": [
              "[<stationId>121000220</stationId>,\n",
              " <stationId>121000086</stationId>,\n",
              " <stationId>277103678</stationId>,\n",
              " <stationId>233000137</stationId>,\n",
              " <stationId>277103386</stationId>,\n",
              " <stationId>233001817</stationId>,\n",
              " <stationId>277102660</stationId>,\n",
              " <stationId>233001637</stationId>,\n",
              " <stationId>233000121</stationId>]"
            ]
          },
          "metadata": {},
          "execution_count": 3
        }
      ]
    },
    {
      "cell_type": "code",
      "source": [
        "print('학번=', 2370001, '이름=', '강가현')"
      ],
      "metadata": {
        "id": "65Bh-LRbn67N",
        "colab": {
          "base_uri": "https://localhost:8080/"
        },
        "outputId": "2bfe5d4b-ca46-4a93-b972-c570eb94abdc"
      },
      "execution_count": 4,
      "outputs": [
        {
          "output_type": "stream",
          "name": "stdout",
          "text": [
            "학번= 2370001 이름= 강가현\n"
          ]
        }
      ]
    }
  ]
}